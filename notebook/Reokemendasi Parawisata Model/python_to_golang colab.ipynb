{
  "nbformat": 4,
  "nbformat_minor": 0,
  "metadata": {
    "colab": {
      "provenance": []
    },
    "kernelspec": {
      "name": "python3",
      "display_name": "Python 3"
    },
    "language_info": {
      "name": "python"
    }
  },
  "cells": [
    {
      "cell_type": "code",
      "execution_count": 21,
      "metadata": {
        "id": "VRQlS-g1mi7A"
      },
      "outputs": [],
      "source": [
        "# Untuk pengolahan data\n",
        "import pandas as pd\n",
        "import numpy as np\n",
        "# Untuk pemodelan\n",
        "import tensorflow as tf\n"
      ]
    },
    {
      "cell_type": "code",
      "source": [
        "//rating = pd.read_csv('/home/rating_baru.csv')\n",
        "place = pd.read_csv('/home/place_malang.csv')"
      ],
      "metadata": {
        "id": "sSboOEZ7wwe8"
      },
      "execution_count": 3,
      "outputs": []
    },
    {
      "cell_type": "code",
      "source": [
        "model = tf.lite.Interpreter(model_path=\"/content/recommender_model.tflite\")\n",
        "model.allocate_tensors()"
      ],
      "metadata": {
        "id": "BhJLcmRX4M3D"
      },
      "execution_count": 4,
      "outputs": []
    },
    {
      "cell_type": "code",
      "source": [
        "df = rating.copy()"
      ],
      "metadata": {
        "id": "dJDB-a214joF"
      },
      "execution_count": 5,
      "outputs": []
    },
    {
      "cell_type": "markdown",
      "source": [
        "MELAKUKAN ENCODING\n"
      ],
      "metadata": {
        "id": "B8LpfJkgJwcg"
      }
    },
    {
      "cell_type": "markdown",
      "source": [
        "1. MEMBUAT FUNGSI ENCODING"
      ],
      "metadata": {
        "id": "SrENZvvEJzyy"
      }
    },
    {
      "cell_type": "code",
      "source": [
        "def dict_encoder(col, data=df):\n",
        "\n",
        "  # Mengubah kolom suatu dataframe menjadi list tanpa nilai yang sama\n",
        "  unique_val = data[col].unique().tolist()\n",
        "\n",
        "  # Melakukan encoding value kolom suatu dataframe ke angka\n",
        "  val_to_val_encoded = {x: i for i, x in enumerate(unique_val)}\n",
        "\n",
        "  # Melakukan proses encoding angka ke value dari kolom suatu dataframe\n",
        "  val_encoded_to_val = {i: x for i, x in enumerate(unique_val)}\n",
        "  return val_to_val_encoded, val_encoded_to_val"
      ],
      "metadata": {
        "id": "X6soGJez6SUu"
      },
      "execution_count": 6,
      "outputs": []
    },
    {
      "cell_type": "markdown",
      "source": [
        "2. Encoding dan Mapping Kolom User"
      ],
      "metadata": {
        "id": "xMR2LlSEKErx"
      }
    },
    {
      "cell_type": "code",
      "source": [
        "# Encoding User_Id\n",
        "user_to_user_encoded, user_encoded_to_user = dict_encoder('User_Id')\n",
        "\n",
        "# Mapping User_Id ke dataframe\n",
        "df['user'] = df['User_Id'].map(user_to_user_encoded)"
      ],
      "metadata": {
        "id": "bwM7Wa6L9U0p"
      },
      "execution_count": 7,
      "outputs": []
    },
    {
      "cell_type": "markdown",
      "source": [
        "3. Encoding dan Mapping Kolom Place"
      ],
      "metadata": {
        "id": "nGRt-nIxKq9m"
      }
    },
    {
      "cell_type": "code",
      "source": [
        "# Encoding Place_Id\n",
        "place_to_place_encoded, place_encoded_to_place = dict_encoder('Place_Id')\n",
        "\n",
        "# Mapping Place_Id ke dataframe place\n",
        "df['place'] = df['Place_Id'].map(place_to_place_encoded)"
      ],
      "metadata": {
        "id": "ceqnLIhd6Xf9"
      },
      "execution_count": 8,
      "outputs": []
    },
    {
      "cell_type": "code",
      "source": [
        "# Mendapatkan jumlah user dan place\n",
        "num_users, num_place = len(user_to_user_encoded), len(place_to_place_encoded)\n",
        "\n",
        "# Mengubah rating menjadi nilai float\n",
        "df['Place_Ratings'] = df['Place_Ratings'].values.astype(np.float32)\n",
        "\n",
        "# Mendapatkan nilai minimum dan maksimum rating\n",
        "min_rating, max_rating = min(df['Place_Ratings']), max(df['Place_Ratings'])\n",
        "\n",
        "print(f'Number of User: {num_users}, Number of Place: {num_place}, Min Rating: {min_rating}, Max Rating: {max_rating}')"
      ],
      "metadata": {
        "colab": {
          "base_uri": "https://localhost:8080/"
        },
        "id": "hmvoOpsTLEpQ",
        "outputId": "dec07f8d-6de3-4ced-dff0-6f5ea71bb128"
      },
      "execution_count": 9,
      "outputs": [
        {
          "output_type": "stream",
          "name": "stdout",
          "text": [
            "Number of User: 300, Number of Place: 57, Min Rating: 1.0, Max Rating: 5.0\n"
          ]
        }
      ]
    },
    {
      "cell_type": "code",
      "source": [
        "# Mengacak dataset\n",
        "df = df.sample(frac=1, random_state=42)\n"
      ],
      "metadata": {
        "id": "B3R0SWp2LKxx"
      },
      "execution_count": 10,
      "outputs": []
    },
    {
      "cell_type": "markdown",
      "source": [
        " Menyiapkan DataFrame untuk Menampilkan Hasil Rekomendasi"
      ],
      "metadata": {
        "id": "e1p2zZ7RLgmp"
      }
    },
    {
      "cell_type": "code",
      "source": [
        "place_df = place[['Place_Id','Place_Name','Category','Rating','Price']]\n",
        "place_df.columns = ['id','place_name','category','rating','price']\n",
        "df = rating.copy()"
      ],
      "metadata": {
        "id": "fDz-cSy4LXt2"
      },
      "execution_count": 11,
      "outputs": []
    },
    {
      "cell_type": "markdown",
      "source": [
        "Menyiapkan contoh User untuk Menampilkan Rekomendasi"
      ],
      "metadata": {
        "id": "Pym9j2StLpKD"
      }
    },
    {
      "cell_type": "markdown",
      "source": [
        "MENCARI USER"
      ],
      "metadata": {
        "id": "__RqWU36L615"
      }
    },
    {
      "cell_type": "code",
      "source": [
        "# Mengambil sample user\n",
        "user_id = df.User_Id.sample(1).iloc[0]\n",
        "place_visited_by_user = df[df.User_Id == user_id]"
      ],
      "metadata": {
        "id": "dlT11uUZLdIy"
      },
      "execution_count": 12,
      "outputs": []
    },
    {
      "cell_type": "markdown",
      "source": [
        "Mencari Lokasi yang belum Dikunjungi User"
      ],
      "metadata": {
        "id": "G0-ofpBWMHI7"
      }
    },
    {
      "cell_type": "code",
      "source": [
        "# Membuat data lokasi yang belum dikunjungi user\n",
        "place_not_visited = place_df[~place_df['id'].isin(place_visited_by_user.Place_Id.values)]['id']\n",
        "place_not_visited = list(\n",
        "    set(place_not_visited)\n",
        "    .intersection(set(place_to_place_encoded.keys()))\n",
        ")\n",
        "\n",
        "place_not_visited = [[place_to_place_encoded.get(x)] for x in place_not_visited]\n",
        "user_encoder = user_to_user_encoded.get(user_id)\n",
        "user_place_array = np.hstack(\n",
        "    ([[user_encoder]] * len(place_not_visited), place_not_visited)\n",
        ")"
      ],
      "metadata": {
        "id": "t-d6uii7MJKO"
      },
      "execution_count": 13,
      "outputs": []
    },
    {
      "cell_type": "code",
      "source": [
        "input_details = model.get_input_details()\n",
        "output_details = model.get_output_details()\n"
      ],
      "metadata": {
        "id": "PT2y6jtmsXf0"
      },
      "execution_count": 14,
      "outputs": []
    },
    {
      "cell_type": "code",
      "source": [
        "input_tensor = np.expand_dims(user_place_array, axis=0)"
      ],
      "metadata": {
        "id": "cfzINaC8qptG"
      },
      "execution_count": 15,
      "outputs": []
    },
    {
      "cell_type": "code",
      "source": [
        "input_tensor = input_tensor.reshape(56, 2)"
      ],
      "metadata": {
        "id": "p7x8PulKpS9v"
      },
      "execution_count": 16,
      "outputs": []
    },
    {
      "cell_type": "code",
      "source": [
        "outputs = []\n",
        "for sample in user_place_array:\n",
        "    # Reshape the sample to match the model's input shape\n",
        "    input_tensor = sample.reshape(1, 2)\n",
        "\n",
        "    # Set the input tensor\n",
        "    model.set_tensor(input_details[0]['index'], input_tensor)\n",
        "\n",
        "    # Invoke the model\n",
        "    model.invoke()\n",
        "\n",
        "    # Get the output tensor\n",
        "    output_data = model.get_tensor(output_details[0]['index'])\n",
        "\n",
        "    # Append the output to the list\n",
        "    outputs.append(output_data)\n",
        "\n",
        "# Convert the list of outputs to a NumPy array\n",
        "outputs = np.array(outputs)"
      ],
      "metadata": {
        "id": "oChP93cmq7jA"
      },
      "execution_count": 17,
      "outputs": []
    },
    {
      "cell_type": "code",
      "source": [
        "ratings = outputs.flatten()"
      ],
      "metadata": {
        "id": "BzVrNqXUC_nM"
      },
      "execution_count": 18,
      "outputs": []
    },
    {
      "cell_type": "code",
      "source": [
        "top_ratings_indices = ratings.argsort()[-7:][::-1]"
      ],
      "metadata": {
        "id": "3iY22qV_zmyX"
      },
      "execution_count": 19,
      "outputs": []
    },
    {
      "cell_type": "markdown",
      "source": [
        "Menampilkan Hasil Rekomendasi untuk User"
      ],
      "metadata": {
        "id": "pFvVwdLPMN2B"
      }
    },
    {
      "cell_type": "code",
      "source": [
        "\n",
        "# Run inference using TFLite model\n",
        "#model.invoke()  # Assuming you've already called allocate_tensors()\n",
        "\n",
        "# Get output tensor data (assuming ratings are the first output)\n",
        "#output_data = model.get_tensor(output_details[0]['index'])\n",
        " # Assuming output is a 1D array representing ratings\n",
        "\n",
        "# Extract top 7 recommendations\n",
        "\n",
        "recommended_place_ids = [\n",
        "    place_encoded_to_place.get(place_not_visited[x][0]) for x in top_ratings_indices\n",
        "]\n",
        "\n",
        "\n",
        "\n",
        "print('Daftar rekomendasi untuk: {}'.format('User ' + str(user_id)))\n",
        "print('===' * 15,'\\n')\n",
        "print('----' * 15)\n",
        "print('Tempat dengan rating wisata paling tinggi dari user')\n",
        "print('----' * 15)\n",
        "\n",
        "top_place_user = (\n",
        "    place_visited_by_user.sort_values(\n",
        "        by = 'Place_Ratings',\n",
        "        ascending=False\n",
        "    )\n",
        "    .head(5)\n",
        "    .Place_Id.values\n",
        ")\n",
        "\n",
        "place_df_rows = place_df[place_df['id'].isin(top_place_user)]\n",
        "for row in place_df_rows.itertuples():\n",
        "    print(row.place_name, ':', row.category)\n",
        "\n",
        "print('')\n",
        "print('----' * 15)\n",
        "print('Top 7 place recommendation')\n",
        "print('----' * 15)\n",
        "\n",
        "recommended_place = place_df[place_df['id'].isin(recommended_place_ids)]\n",
        "for row, i in zip(recommended_place.itertuples(), range(1,8)):\n",
        "    print(i,'.', row.place_name, '\\n    ', row.category, ',', 'Harga Tiket Masuk ', row.price, ',', 'Rating Wisata ', row.rating,'\\n')\n",
        "\n",
        "print('==='*15)"
      ],
      "metadata": {
        "colab": {
          "base_uri": "https://localhost:8080/"
        },
        "id": "hiMglMlZMMtd",
        "outputId": "166be5a9-6502-4eb8-df01-9ab204c47a7d"
      },
      "execution_count": 20,
      "outputs": [
        {
          "output_type": "stream",
          "name": "stdout",
          "text": [
            "Daftar rekomendasi untuk: User 71\n",
            "============================================= \n",
            "\n",
            "------------------------------------------------------------\n",
            "Tempat dengan rating wisata paling tinggi dari user\n",
            "------------------------------------------------------------\n",
            "Taman Safari Prigen : Kebun Binatang\n",
            "\n",
            "------------------------------------------------------------\n",
            "Top 7 place recommendation\n",
            "------------------------------------------------------------\n",
            "1 . Bukit Teletubbies Bromo \n",
            "     Alam , Harga Tiket Masuk  nan , Rating Wisata  4.6 \n",
            "\n",
            "2 . Sumber Maron \n",
            "     Alam, Pemandian , Harga Tiket Masuk  nan , Rating Wisata  4.3 \n",
            "\n",
            "3 . Masjid Tiban Turen \n",
            "     Religi , Harga Tiket Masuk  nan , Rating Wisata  4.4 \n",
            "\n",
            "4 . Pantai Batu Bengkung \n",
            "     Pantai , Harga Tiket Masuk  nan , Rating Wisata  4.5 \n",
            "\n",
            "5 . Pantai Kondang Merak \n",
            "     Pantai , Harga Tiket Masuk  nan , Rating Wisata  4.5 \n",
            "\n",
            "6 . Pantai banyu Anjlok \n",
            "     Pantai, Alam , Harga Tiket Masuk  nan , Rating Wisata  4.6 \n",
            "\n",
            "7 . Pantai Tamban \n",
            "     Pantai , Harga Tiket Masuk  nan , Rating Wisata  4.4 \n",
            "\n",
            "=============================================\n"
          ]
        }
      ]
    },
    {
      "cell_type": "code",
      "source": [],
      "metadata": {
        "id": "YfuuSkSTrATa"
      },
      "execution_count": 20,
      "outputs": []
    }
  ]
}